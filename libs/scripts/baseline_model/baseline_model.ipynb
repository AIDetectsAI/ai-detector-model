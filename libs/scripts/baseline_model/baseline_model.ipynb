{
 "cells": [
  {
   "cell_type": "code",
   "execution_count": 52,
   "id": "e2fc4621",
   "metadata": {},
   "outputs": [
    {
     "name": "stdout",
     "output_type": "stream",
     "text": [
      "CUDA device 0: NVIDIA GeForce GTX 970\n"
     ]
    }
   ],
   "source": [
    "import torch\n",
    "from PIL import ImageFile\n",
    "ImageFile.LOAD_TRUNCATED_IMAGES = True\n",
    "\n",
    "if torch.cuda.is_available():\n",
    "    for i in range(torch.cuda.device_count()):\n",
    "        print(f\"CUDA device {i}: {torch.cuda.get_device_name(i)}\")\n",
    "else:\n",
    "    print(\"No CUDA devices available.\")\n",
    "device = torch.device(\"cuda\" if torch.cuda.is_available() else \"cpu\")"
   ]
  },
  {
   "cell_type": "code",
   "execution_count": 53,
   "id": "f240aac8",
   "metadata": {},
   "outputs": [
    {
     "data": {
      "text/plain": [
       "'/home/ratattwg/Desktop/testing_baseline_model/data'"
      ]
     },
     "execution_count": 53,
     "metadata": {},
     "output_type": "execute_result"
    }
   ],
   "source": [
    "import os\n",
    "from dotenv import load_dotenv\n",
    "\n",
    "load_dotenv()\n",
    "\n",
    "KAGGLE_USERNAME = os.getenv('KAGGLE_USERNAME')\n",
    "KAGGLE_KEY = os.getenv(\"KAGGLE_KEY\")\n",
    "\n",
    "os.environ['KAGGLEHUB_CACHE'] = os.path.join(os.getcwd(), \"data\")\n",
    "os.getenv(\"KAGGLEHUB_CACHE\")"
   ]
  },
  {
   "cell_type": "code",
   "execution_count": 54,
   "id": "a1728d0d",
   "metadata": {},
   "outputs": [],
   "source": [
    "import kagglehub\n",
    "\n",
    "path = kagglehub.dataset_download(\"tristanzhang32/ai-generated-images-vs-real-images\")\n"
   ]
  },
  {
   "cell_type": "code",
   "execution_count": 55,
   "id": "8c7d447d",
   "metadata": {},
   "outputs": [
    {
     "name": "stdout",
     "output_type": "stream",
     "text": [
      "/home/ratattwg/Desktop/testing_baseline_model/data/datasets/tristanzhang32/ai-generated-images-vs-real-images/versions/2\n"
     ]
    }
   ],
   "source": [
    "print(path)"
   ]
  },
  {
   "cell_type": "code",
   "execution_count": 56,
   "id": "f7500538",
   "metadata": {},
   "outputs": [],
   "source": [
    "import torch\n",
    "import torchvision.transforms as transforms\n",
    "import torchvision.datasets as dsets\n",
    "\n",
    "train_transform = transforms.Compose([  \n",
    "    transforms.RandomResizedCrop(128),  # Randomly crop to 128x128\n",
    "    transforms.RandomHorizontalFlip(),\n",
    "    transforms.RandomRotation(10), \n",
    "    transforms.ToTensor(), \n",
    "    transforms.Normalize(mean=[0.485,0.456,0.406], std=[0.229,0.224,0.225])  # Normalize to [-1, 1]\n",
    "])\n",
    "test_transform = transforms.Compose([\n",
    "    transforms.Resize((128, 128)),\n",
    "    transforms.ToTensor(),\n",
    "    transforms.Normalize(mean=[0.485,0.456,0.406], std=[0.229,0.224,0.225])  # Normalize to [-1, 1]\n",
    "])\n",
    "\n",
    "train_dataset = dsets.ImageFolder(root=os.path.join(path, \"train\"), transform=train_transform)\n",
    "test_dataset = dsets.ImageFolder(root=os.path.join(path, \"test\"), transform=test_transform)\n",
    "\n",
    "train_loader = torch.utils.data.DataLoader(\n",
    "    train_dataset,\n",
    "    batch_size=128,\n",
    "    shuffle=True,\n",
    "    num_workers=12,\n",
    "    pin_memory=True,\n",
    "    pin_memory_device=\"cuda\",\n",
    "    persistent_workers=True,\n",
    "    prefetch_factor=2\n",
    ")\n",
    "\n",
    "test_loader = torch.utils.data.DataLoader(\n",
    "    test_dataset,\n",
    "    batch_size=128,\n",
    "    shuffle=True,\n",
    "    num_workers=12,\n",
    "    pin_memory=True,\n",
    "    pin_memory_device=\"cuda\",\n",
    "    prefetch_factor=2\n",
    ")\n"
   ]
  },
  {
   "cell_type": "code",
   "execution_count": 57,
   "id": "cc3c62a8",
   "metadata": {},
   "outputs": [
    {
     "name": "stdout",
     "output_type": "stream",
     "text": [
      "Dataloaders: (<torch.utils.data.dataloader.DataLoader object at 0x754d04ed5fa0>, <torch.utils.data.dataloader.DataLoader object at 0x754d04ed5190>)\n",
      "Length of train dataloader: 375 batches of 128\n",
      "Length of test dataloader: 94 batches of 128\n"
     ]
    }
   ],
   "source": [
    "print(f\"Dataloaders: {train_loader, test_loader}\") \n",
    "print(f\"Length of train dataloader: {len(train_loader)} batches of {128}\")\n",
    "print(f\"Length of test dataloader: {len(test_loader)} batches of {128}\")"
   ]
  },
  {
   "cell_type": "code",
   "execution_count": 58,
   "id": "86fb480e",
   "metadata": {},
   "outputs": [],
   "source": [
    "from torch import nn\n",
    "from torch.nn import functional as F\n",
    "import numpy as np\n",
    "from sklearn.metrics import roc_auc_score, precision_score, recall_score\n",
    "\n",
    "class ResidualBlock(nn.Module):\n",
    "    \"\"\"\n",
    "    Two 3×3 convs with batchnorm and ReLU, plus skip connection.\n",
    "    \"\"\"\n",
    "    def __init__(self, in_ch, out_ch):\n",
    "        super().__init__()\n",
    "        self.conv1 = nn.Conv2d(in_ch, out_ch, kernel_size=3, padding=1)\n",
    "        self.bn1 = nn.BatchNorm2d(out_ch)\n",
    "        self.conv2 = nn.Conv2d(out_ch, out_ch, kernel_size=3, padding=1)\n",
    "        self.bn2 = nn.BatchNorm2d(out_ch)\n",
    "        self.skip = nn.Conv2d(in_ch, out_ch, kernel_size=1) if in_ch != out_ch else nn.Identity()\n",
    "        self.relu = nn.ReLU(inplace=True)\n",
    "\n",
    "    def forward(self, x):\n",
    "        out = self.relu(self.bn1(self.conv1(x)))\n",
    "        out = self.bn2(self.conv2(out))\n",
    "        skip = self.skip(x)\n",
    "        return self.relu(out + skip)\n",
    "\n",
    "class CustomBinaryCNN(nn.Module):\n",
    "    \"\"\"\n",
    "    Custom CNN for AI vs. natural image classification.\n",
    "    - 4 residual convolutional stages\n",
    "    - SpatialDropout2d for regularization\n",
    "    - Global average pooling\n",
    "    - Small classification head\n",
    "    \"\"\"\n",
    "    def __init__(self):\n",
    "        super().__init__()\n",
    "        self.stage1 = nn.Sequential(\n",
    "            ResidualBlock(3, 32),\n",
    "            nn.MaxPool2d(2),\n",
    "            nn.Dropout2d(0.2)\n",
    "        )\n",
    "        self.stage2 = nn.Sequential(\n",
    "            ResidualBlock(32, 64),\n",
    "            nn.MaxPool2d(2),\n",
    "            nn.Dropout2d(0.2)\n",
    "        )\n",
    "        self.stage3 = nn.Sequential(\n",
    "            ResidualBlock(64, 128),\n",
    "            nn.MaxPool2d(2),\n",
    "            nn.Dropout2d(0.2)\n",
    "        )\n",
    "        self.stage4 = nn.Sequential(\n",
    "            ResidualBlock(128, 256),\n",
    "            nn.MaxPool2d(2),\n",
    "            nn.Dropout2d(0.2)\n",
    "        )\n",
    "\n",
    "        self.global_pool = nn.AdaptiveAvgPool2d((1,1))\n",
    "        self.fc1 = nn.Linear(256, 128)\n",
    "        self.dropout = nn.Dropout(0.5)\n",
    "        self.classifier = nn.Linear(128, 1)\n",
    "        self.sigmoid = nn.Sigmoid()\n",
    "\n",
    "    def forward(self, x):\n",
    "        x = self.stage1(x)    # [B,32,H/2,W/2]\n",
    "        x = self.stage2(x)    # [B,64,H/4,W/4]\n",
    "        x = self.stage3(x)    # [B,128,H/8,W/8]\n",
    "        x = self.stage4(x)    # [B,256,H/16,W/16]\n",
    "        x = self.global_pool(x)  # [B,256,1,1]\n",
    "        x = x.view(x.size(0), -1)\n",
    "        x = F.relu(self.fc1(x))\n",
    "        x = self.dropout(x)\n",
    "        logits = self.classifier(x)\n",
    "        return logits\n",
    "    \n",
    "    def predict(self, x):\n",
    "        self.eval()\n",
    "        with torch.no_grad():\n",
    "            x = self(x)\n",
    "            return self.sigmoid(x)\n",
    "    \n"
   ]
  },
  {
   "cell_type": "code",
   "execution_count": 59,
   "id": "84ce849a",
   "metadata": {},
   "outputs": [],
   "source": [
    "def test_model(model, test_loader, loss_fn):\n",
    "    model.eval()\n",
    "    total_loss = 0.0\n",
    "    all_labels = []\n",
    "    all_outputs = []\n",
    "    \n",
    "    with torch.no_grad():\n",
    "        for i, (features, labels) in enumerate(test_loader):\n",
    "            features, labels = features.to(device), labels.to(device)\n",
    "            outputs = model.predict(features)\n",
    "            \n",
    "            all_labels.extend(labels.cpu().numpy())\n",
    "            all_outputs.extend(outputs.view(-1).cpu().numpy())\n",
    "\n",
    "            #batch_accuracy = np.mean((outputs.view(-1).numpy() > 0.5) == labels.numpy())\n",
    "            #batch_auc = roc_auc_score(labels.numpy(), outputs.view(-1).numpy())\n",
    "            #print(f\"Batch {i+1}/{len(test_loader)}, Loss: {loss_value.item():.4f}, Accuracy: {batch_accuracy:.4f}, AUC: {batch_auc:.4f}\")\n",
    "    \n",
    "    accuracy = np.mean((np.array(all_outputs) > 0.5) == np.array(all_labels))\n",
    "    \n",
    "    auc_score = roc_auc_score(all_labels, all_outputs)\n",
    "    precision = precision_score(all_labels, (np.array(all_outputs) > 0.5).astype(int))\n",
    "    recall = recall_score(all_labels, (np.array(all_outputs) > 0.5).astype(int))\n",
    "    \n",
    "    print(f\"Test Accuracy: {accuracy:.4f}, AUC: {auc_score:.4f}, Precision: {precision:.4f}, Recall: {recall:.4f}\")"
   ]
  },
  {
   "cell_type": "code",
   "execution_count": 60,
   "id": "7efa757b",
   "metadata": {},
   "outputs": [
    {
     "name": "stdout",
     "output_type": "stream",
     "text": [
      "True\n"
     ]
    },
    {
     "name": "stderr",
     "output_type": "stream",
     "text": [
      "Training Epoch 26/50:   0%|          | 0/375 [00:00<?, ?it/s]"
     ]
    },
    {
     "name": "stderr",
     "output_type": "stream",
     "text": [
      "/home/ratattwg/miniconda3/envs/py312/lib/python3.12/site-packages/PIL/Image.py:1054: UserWarning: Palette images with Transparency expressed in bytes should be converted to RGBA images\n",
      "  warnings.warn(\n",
      "/home/ratattwg/miniconda3/envs/py312/lib/python3.12/site-packages/PIL/Image.py:3406: DecompressionBombWarning: Image size (107184040 pixels) exceeds limit of 89478485 pixels, could be decompression bomb DOS attack.\n",
      "  warnings.warn(\n",
      "Training Epoch 26/50:  10%|█         | 39/375 [01:27<14:29,  2.59s/it] /home/ratattwg/miniconda3/envs/py312/lib/python3.12/site-packages/PIL/Image.py:1054: UserWarning: Palette images with Transparency expressed in bytes should be converted to RGBA images\n",
      "  warnings.warn(\n",
      "Training Epoch 26/50:  13%|█▎        | 48/375 [01:30<02:39,  2.04it/s]/home/ratattwg/miniconda3/envs/py312/lib/python3.12/site-packages/PIL/Image.py:1054: UserWarning: Palette images with Transparency expressed in bytes should be converted to RGBA images\n",
      "  warnings.warn(\n",
      "Training Epoch 26/50:  20%|█▉        | 74/375 [01:56<02:11,  2.28it/s]/home/ratattwg/miniconda3/envs/py312/lib/python3.12/site-packages/PIL/Image.py:3406: DecompressionBombWarning: Image size (99991727 pixels) exceeds limit of 89478485 pixels, could be decompression bomb DOS attack.\n",
      "  warnings.warn(\n",
      "Training Epoch 26/50:  23%|██▎       | 86/375 [02:09<02:10,  2.21it/s]/home/ratattwg/miniconda3/envs/py312/lib/python3.12/site-packages/PIL/Image.py:3406: DecompressionBombWarning: Image size (98806617 pixels) exceeds limit of 89478485 pixels, could be decompression bomb DOS attack.\n",
      "  warnings.warn(\n",
      "Training Epoch 26/50:  29%|██▉       | 110/375 [02:34<02:44,  1.61it/s]/home/ratattwg/miniconda3/envs/py312/lib/python3.12/site-packages/PIL/Image.py:3406: DecompressionBombWarning: Image size (98058240 pixels) exceeds limit of 89478485 pixels, could be decompression bomb DOS attack.\n",
      "  warnings.warn(\n",
      "Training Epoch 26/50:  37%|███▋      | 140/375 [03:13<03:33,  1.10it/s]/home/ratattwg/miniconda3/envs/py312/lib/python3.12/site-packages/PIL/Image.py:3406: DecompressionBombWarning: Image size (96012000 pixels) exceeds limit of 89478485 pixels, could be decompression bomb DOS attack.\n",
      "  warnings.warn(\n",
      "Training Epoch 26/50:  55%|█████▍    | 206/375 [04:28<03:22,  1.20s/it]/home/ratattwg/miniconda3/envs/py312/lib/python3.12/site-packages/PIL/Image.py:1054: UserWarning: Palette images with Transparency expressed in bytes should be converted to RGBA images\n",
      "  warnings.warn(\n",
      "Training Epoch 26/50:  57%|█████▋    | 213/375 [04:33<01:29,  1.81it/s]/home/ratattwg/miniconda3/envs/py312/lib/python3.12/site-packages/PIL/Image.py:1054: UserWarning: Palette images with Transparency expressed in bytes should be converted to RGBA images\n",
      "  warnings.warn(\n",
      "Training Epoch 26/50:  57%|█████▋    | 215/375 [04:37<02:54,  1.09s/it]/home/ratattwg/miniconda3/envs/py312/lib/python3.12/site-packages/PIL/Image.py:3406: DecompressionBombWarning: Image size (90671520 pixels) exceeds limit of 89478485 pixels, could be decompression bomb DOS attack.\n",
      "  warnings.warn(\n",
      "Training Epoch 26/50:  60%|██████    | 226/375 [04:47<01:40,  1.49it/s]/home/ratattwg/miniconda3/envs/py312/lib/python3.12/site-packages/PIL/Image.py:1054: UserWarning: Palette images with Transparency expressed in bytes should be converted to RGBA images\n",
      "  warnings.warn(\n",
      "Training Epoch 26/50:  61%|██████    | 229/375 [04:59<06:55,  2.85s/it]/home/ratattwg/miniconda3/envs/py312/lib/python3.12/site-packages/PIL/Image.py:3406: DecompressionBombWarning: Image size (161087488 pixels) exceeds limit of 89478485 pixels, could be decompression bomb DOS attack.\n",
      "  warnings.warn(\n",
      "Training Epoch 26/50:  63%|██████▎   | 237/375 [05:02<01:14,  1.85it/s]/home/ratattwg/miniconda3/envs/py312/lib/python3.12/site-packages/PIL/Image.py:1054: UserWarning: Palette images with Transparency expressed in bytes should be converted to RGBA images\n",
      "  warnings.warn(\n",
      "Training Epoch 26/50:  66%|██████▌   | 247/375 [05:13<01:13,  1.73it/s]/home/ratattwg/miniconda3/envs/py312/lib/python3.12/site-packages/PIL/Image.py:1054: UserWarning: Palette images with Transparency expressed in bytes should be converted to RGBA images\n",
      "  warnings.warn(\n",
      "Training Epoch 26/50:  66%|██████▌   | 248/375 [05:14<01:06,  1.91it/s]/home/ratattwg/miniconda3/envs/py312/lib/python3.12/site-packages/PIL/Image.py:3406: DecompressionBombWarning: Image size (96000000 pixels) exceeds limit of 89478485 pixels, could be decompression bomb DOS attack.\n",
      "  warnings.warn(\n",
      "Training Epoch 26/50:  94%|█████████▎| 351/375 [07:07<00:13,  1.80it/s]/home/ratattwg/miniconda3/envs/py312/lib/python3.12/site-packages/PIL/Image.py:1054: UserWarning: Palette images with Transparency expressed in bytes should be converted to RGBA images\n",
      "  warnings.warn(\n",
      "Training Epoch 26/50: 100%|██████████| 375/375 [07:30<00:00,  1.20s/it]\n"
     ]
    },
    {
     "name": "stdout",
     "output_type": "stream",
     "text": [
      "Epoch 26/50, Loss: 0.3805, Accuracy: 0.8202\n"
     ]
    },
    {
     "name": "stderr",
     "output_type": "stream",
     "text": [
      "Training Epoch 27/50:   0%|          | 0/375 [00:00<?, ?it/s]/home/ratattwg/miniconda3/envs/py312/lib/python3.12/site-packages/PIL/Image.py:3406: DecompressionBombWarning: Image size (99991727 pixels) exceeds limit of 89478485 pixels, could be decompression bomb DOS attack.\n",
      "  warnings.warn(\n",
      "/home/ratattwg/miniconda3/envs/py312/lib/python3.12/site-packages/PIL/Image.py:3406: DecompressionBombWarning: Image size (98806617 pixels) exceeds limit of 89478485 pixels, could be decompression bomb DOS attack.\n",
      "  warnings.warn(\n",
      "Training Epoch 27/50:  13%|█▎        | 48/375 [01:28<02:27,  2.22it/s] /home/ratattwg/miniconda3/envs/py312/lib/python3.12/site-packages/PIL/Image.py:3406: DecompressionBombWarning: Image size (98058240 pixels) exceeds limit of 89478485 pixels, could be decompression bomb DOS attack.\n",
      "  warnings.warn(\n",
      "Training Epoch 27/50:  22%|██▏       | 84/375 [02:11<03:03,  1.58it/s]/home/ratattwg/miniconda3/envs/py312/lib/python3.12/site-packages/PIL/Image.py:3406: DecompressionBombWarning: Image size (99991727 pixels) exceeds limit of 89478485 pixels, could be decompression bomb DOS attack.\n",
      "  warnings.warn(\n",
      "Training Epoch 27/50:  27%|██▋       | 103/375 [02:36<02:30,  1.81it/s]/home/ratattwg/miniconda3/envs/py312/lib/python3.12/site-packages/PIL/Image.py:3406: DecompressionBombWarning: Image size (161087488 pixels) exceeds limit of 89478485 pixels, could be decompression bomb DOS attack.\n",
      "  warnings.warn(\n",
      "Training Epoch 27/50:  40%|████      | 151/375 [03:30<02:42,  1.38it/s]/home/ratattwg/miniconda3/envs/py312/lib/python3.12/site-packages/PIL/Image.py:1054: UserWarning: Palette images with Transparency expressed in bytes should be converted to RGBA images\n",
      "  warnings.warn(\n",
      "Training Epoch 27/50:  53%|█████▎    | 200/375 [04:29<02:40,  1.09it/s]/home/ratattwg/miniconda3/envs/py312/lib/python3.12/site-packages/PIL/Image.py:3406: DecompressionBombWarning: Image size (98806617 pixels) exceeds limit of 89478485 pixels, could be decompression bomb DOS attack.\n",
      "  warnings.warn(\n",
      "Training Epoch 27/50:  58%|█████▊    | 218/375 [04:49<03:36,  1.38s/it]/home/ratattwg/miniconda3/envs/py312/lib/python3.12/site-packages/PIL/Image.py:3406: DecompressionBombWarning: Image size (96012000 pixels) exceeds limit of 89478485 pixels, could be decompression bomb DOS attack.\n",
      "  warnings.warn(\n",
      "Training Epoch 27/50:  62%|██████▏   | 232/375 [05:04<01:05,  2.17it/s]/home/ratattwg/miniconda3/envs/py312/lib/python3.12/site-packages/PIL/Image.py:3406: DecompressionBombWarning: Image size (90671520 pixels) exceeds limit of 89478485 pixels, could be decompression bomb DOS attack.\n",
      "  warnings.warn(\n",
      "Training Epoch 27/50:  75%|███████▍  | 280/375 [05:55<00:41,  2.30it/s]/home/ratattwg/miniconda3/envs/py312/lib/python3.12/site-packages/PIL/Image.py:1054: UserWarning: Palette images with Transparency expressed in bytes should be converted to RGBA images\n",
      "  warnings.warn(\n",
      "Training Epoch 27/50:  86%|████████▋ | 324/375 [06:45<00:30,  1.68it/s]/home/ratattwg/miniconda3/envs/py312/lib/python3.12/site-packages/PIL/Image.py:1054: UserWarning: Palette images with Transparency expressed in bytes should be converted to RGBA images\n",
      "  warnings.warn(\n",
      "Training Epoch 27/50:  87%|████████▋ | 328/375 [06:46<00:21,  2.23it/s]/home/ratattwg/miniconda3/envs/py312/lib/python3.12/site-packages/PIL/Image.py:3406: DecompressionBombWarning: Image size (107184040 pixels) exceeds limit of 89478485 pixels, could be decompression bomb DOS attack.\n",
      "  warnings.warn(\n",
      "/home/ratattwg/miniconda3/envs/py312/lib/python3.12/site-packages/PIL/Image.py:3406: DecompressionBombWarning: Image size (96000000 pixels) exceeds limit of 89478485 pixels, could be decompression bomb DOS attack.\n",
      "  warnings.warn(\n",
      "Training Epoch 27/50: 100%|██████████| 375/375 [07:36<00:00,  1.22s/it]\n"
     ]
    },
    {
     "name": "stdout",
     "output_type": "stream",
     "text": [
      "Epoch 27/50, Loss: 0.3831, Accuracy: 0.8214\n"
     ]
    },
    {
     "name": "stderr",
     "output_type": "stream",
     "text": [
      "Training Epoch 28/50:   3%|▎         | 12/375 [00:45<03:56,  1.54it/s] /home/ratattwg/miniconda3/envs/py312/lib/python3.12/site-packages/PIL/Image.py:3406: DecompressionBombWarning: Image size (96000000 pixels) exceeds limit of 89478485 pixels, could be decompression bomb DOS attack.\n",
      "  warnings.warn(\n",
      "/home/ratattwg/miniconda3/envs/py312/lib/python3.12/site-packages/PIL/Image.py:3406: DecompressionBombWarning: Image size (161087488 pixels) exceeds limit of 89478485 pixels, could be decompression bomb DOS attack.\n",
      "  warnings.warn(\n",
      "Training Epoch 28/50:  33%|███▎      | 124/375 [02:59<08:48,  2.10s/it]/home/ratattwg/miniconda3/envs/py312/lib/python3.12/site-packages/PIL/Image.py:3406: DecompressionBombWarning: Image size (99991727 pixels) exceeds limit of 89478485 pixels, could be decompression bomb DOS attack.\n",
      "  warnings.warn(\n",
      "Training Epoch 28/50:  36%|███▌      | 134/375 [03:11<11:13,  2.80s/it]/home/ratattwg/miniconda3/envs/py312/lib/python3.12/site-packages/PIL/Image.py:3406: DecompressionBombWarning: Image size (90671520 pixels) exceeds limit of 89478485 pixels, could be decompression bomb DOS attack.\n",
      "  warnings.warn(\n",
      "Training Epoch 28/50:  42%|████▏     | 158/375 [03:41<10:25,  2.88s/it]/home/ratattwg/miniconda3/envs/py312/lib/python3.12/site-packages/PIL/Image.py:3406: DecompressionBombWarning: Image size (107184040 pixels) exceeds limit of 89478485 pixels, could be decompression bomb DOS attack.\n",
      "  warnings.warn(\n",
      "Training Epoch 28/50:  45%|████▌     | 169/375 [03:46<01:33,  2.20it/s]/home/ratattwg/miniconda3/envs/py312/lib/python3.12/site-packages/PIL/Image.py:3406: DecompressionBombWarning: Image size (98806617 pixels) exceeds limit of 89478485 pixels, could be decompression bomb DOS attack.\n",
      "  warnings.warn(\n",
      "Training Epoch 28/50:  87%|████████▋ | 327/375 [06:43<00:27,  1.74it/s]/home/ratattwg/miniconda3/envs/py312/lib/python3.12/site-packages/PIL/Image.py:3406: DecompressionBombWarning: Image size (98058240 pixels) exceeds limit of 89478485 pixels, could be decompression bomb DOS attack.\n",
      "  warnings.warn(\n",
      "Training Epoch 28/50: 100%|██████████| 375/375 [07:34<00:00,  1.21s/it]\n"
     ]
    },
    {
     "name": "stdout",
     "output_type": "stream",
     "text": [
      "Epoch 28/50, Loss: 0.3978, Accuracy: 0.8182\n"
     ]
    },
    {
     "name": "stderr",
     "output_type": "stream",
     "text": [
      "Training Epoch 29/50:   0%|          | 0/375 [00:00<?, ?it/s]/home/ratattwg/miniconda3/envs/py312/lib/python3.12/site-packages/PIL/Image.py:3406: DecompressionBombWarning: Image size (98058240 pixels) exceeds limit of 89478485 pixels, could be decompression bomb DOS attack.\n",
      "  warnings.warn(\n",
      "/home/ratattwg/miniconda3/envs/py312/lib/python3.12/site-packages/PIL/Image.py:3406: DecompressionBombWarning: Image size (161087488 pixels) exceeds limit of 89478485 pixels, could be decompression bomb DOS attack.\n",
      "  warnings.warn(\n",
      "Training Epoch 29/50:  13%|█▎        | 48/375 [01:33<02:31,  2.16it/s] /home/ratattwg/miniconda3/envs/py312/lib/python3.12/site-packages/PIL/Image.py:3406: DecompressionBombWarning: Image size (107184040 pixels) exceeds limit of 89478485 pixels, could be decompression bomb DOS attack.\n",
      "  warnings.warn(\n",
      "Training Epoch 29/50:  24%|██▍       | 91/375 [02:22<03:35,  1.32it/s]/home/ratattwg/miniconda3/envs/py312/lib/python3.12/site-packages/PIL/Image.py:3406: DecompressionBombWarning: Image size (99991727 pixels) exceeds limit of 89478485 pixels, could be decompression bomb DOS attack.\n",
      "  warnings.warn(\n",
      "Training Epoch 29/50:  38%|███▊      | 144/375 [03:25<03:39,  1.05it/s]/home/ratattwg/miniconda3/envs/py312/lib/python3.12/site-packages/PIL/Image.py:3406: DecompressionBombWarning: Image size (96000000 pixels) exceeds limit of 89478485 pixels, could be decompression bomb DOS attack.\n",
      "  warnings.warn(\n",
      "Training Epoch 29/50:  46%|████▌     | 171/375 [03:58<05:19,  1.57s/it]/home/ratattwg/miniconda3/envs/py312/lib/python3.12/site-packages/PIL/Image.py:3406: DecompressionBombWarning: Image size (98806617 pixels) exceeds limit of 89478485 pixels, could be decompression bomb DOS attack.\n",
      "  warnings.warn(\n",
      "Training Epoch 29/50:  50%|████▉     | 187/375 [04:14<02:03,  1.52it/s]/home/ratattwg/miniconda3/envs/py312/lib/python3.12/site-packages/PIL/Image.py:3406: DecompressionBombWarning: Image size (96012000 pixels) exceeds limit of 89478485 pixels, could be decompression bomb DOS attack.\n",
      "  warnings.warn(\n",
      "Training Epoch 29/50:  63%|██████▎   | 235/375 [05:08<01:16,  1.82it/s]/home/ratattwg/miniconda3/envs/py312/lib/python3.12/site-packages/PIL/Image.py:3406: DecompressionBombWarning: Image size (90671520 pixels) exceeds limit of 89478485 pixels, could be decompression bomb DOS attack.\n",
      "  warnings.warn(\n",
      "Training Epoch 29/50: 100%|██████████| 375/375 [07:35<00:00,  1.22s/it]\n"
     ]
    },
    {
     "name": "stdout",
     "output_type": "stream",
     "text": [
      "Epoch 29/50, Loss: 0.3372, Accuracy: 0.8229\n"
     ]
    },
    {
     "name": "stderr",
     "output_type": "stream",
     "text": [
      "Training Epoch 30/50:  17%|█▋        | 65/375 [01:48<03:16,  1.57it/s] /home/ratattwg/miniconda3/envs/py312/lib/python3.12/site-packages/PIL/Image.py:3406: DecompressionBombWarning: Image size (98806617 pixels) exceeds limit of 89478485 pixels, could be decompression bomb DOS attack.\n",
      "  warnings.warn(\n",
      "Training Epoch 30/50:  40%|███▉      | 149/375 [03:25<02:37,  1.43it/s]/home/ratattwg/miniconda3/envs/py312/lib/python3.12/site-packages/PIL/Image.py:3406: DecompressionBombWarning: Image size (90671520 pixels) exceeds limit of 89478485 pixels, could be decompression bomb DOS attack.\n",
      "  warnings.warn(\n",
      "Training Epoch 30/50:  55%|█████▍    | 205/375 [04:31<06:16,  2.21s/it]/home/ratattwg/miniconda3/envs/py312/lib/python3.12/site-packages/PIL/Image.py:3406: DecompressionBombWarning: Image size (107184040 pixels) exceeds limit of 89478485 pixels, could be decompression bomb DOS attack.\n",
      "  warnings.warn(\n",
      "Training Epoch 30/50:  73%|███████▎  | 275/375 [05:46<00:45,  2.22it/s]/home/ratattwg/miniconda3/envs/py312/lib/python3.12/site-packages/PIL/Image.py:3406: DecompressionBombWarning: Image size (161087488 pixels) exceeds limit of 89478485 pixels, could be decompression bomb DOS attack.\n",
      "  warnings.warn(\n",
      "Training Epoch 30/50: 100%|██████████| 375/375 [07:34<00:00,  1.21s/it]"
     ]
    },
    {
     "name": "stdout",
     "output_type": "stream",
     "text": [
      "Epoch 30/50, Loss: 0.3745, Accuracy: 0.8243\n"
     ]
    },
    {
     "name": "stderr",
     "output_type": "stream",
     "text": [
      "\n",
      "/home/ratattwg/miniconda3/envs/py312/lib/python3.12/site-packages/PIL/Image.py:1054: UserWarning: Palette images with Transparency expressed in bytes should be converted to RGBA images\n",
      "  warnings.warn(\n",
      "/home/ratattwg/miniconda3/envs/py312/lib/python3.12/site-packages/PIL/Image.py:3406: DecompressionBombWarning: Image size (121554000 pixels) exceeds limit of 89478485 pixels, could be decompression bomb DOS attack.\n",
      "  warnings.warn(\n",
      "/home/ratattwg/miniconda3/envs/py312/lib/python3.12/site-packages/PIL/Image.py:1054: UserWarning: Palette images with Transparency expressed in bytes should be converted to RGBA images\n",
      "  warnings.warn(\n",
      "/home/ratattwg/miniconda3/envs/py312/lib/python3.12/site-packages/PIL/Image.py:1054: UserWarning: Palette images with Transparency expressed in bytes should be converted to RGBA images\n",
      "  warnings.warn(\n",
      "/home/ratattwg/miniconda3/envs/py312/lib/python3.12/site-packages/PIL/Image.py:3406: DecompressionBombWarning: Image size (143040000 pixels) exceeds limit of 89478485 pixels, could be decompression bomb DOS attack.\n",
      "  warnings.warn(\n",
      "/home/ratattwg/miniconda3/envs/py312/lib/python3.12/site-packages/PIL/Image.py:1054: UserWarning: Palette images with Transparency expressed in bytes should be converted to RGBA images\n",
      "  warnings.warn(\n"
     ]
    },
    {
     "name": "stdout",
     "output_type": "stream",
     "text": [
      "Test Accuracy: 0.8438, AUC: 0.9222, Precision: 0.8404, Recall: 0.8488\n"
     ]
    },
    {
     "name": "stderr",
     "output_type": "stream",
     "text": [
      "Training Epoch 31/50:  14%|█▍        | 54/375 [01:40<05:25,  1.01s/it] /home/ratattwg/miniconda3/envs/py312/lib/python3.12/site-packages/PIL/Image.py:3406: DecompressionBombWarning: Image size (96012000 pixels) exceeds limit of 89478485 pixels, could be decompression bomb DOS attack.\n",
      "  warnings.warn(\n",
      "Training Epoch 31/50:  34%|███▍      | 127/375 [03:04<03:24,  1.22it/s]/home/ratattwg/miniconda3/envs/py312/lib/python3.12/site-packages/PIL/Image.py:3406: DecompressionBombWarning: Image size (96000000 pixels) exceeds limit of 89478485 pixels, could be decompression bomb DOS attack.\n",
      "  warnings.warn(\n",
      "Training Epoch 31/50:  34%|███▍      | 129/375 [03:05<02:29,  1.65it/s]/home/ratattwg/miniconda3/envs/py312/lib/python3.12/site-packages/PIL/Image.py:3406: DecompressionBombWarning: Image size (90671520 pixels) exceeds limit of 89478485 pixels, could be decompression bomb DOS attack.\n",
      "  warnings.warn(\n",
      "Training Epoch 31/50:  47%|████▋     | 177/375 [03:59<01:44,  1.89it/s]/home/ratattwg/miniconda3/envs/py312/lib/python3.12/site-packages/PIL/Image.py:3406: DecompressionBombWarning: Image size (161087488 pixels) exceeds limit of 89478485 pixels, could be decompression bomb DOS attack.\n",
      "  warnings.warn(\n",
      "Training Epoch 31/50:  91%|█████████ | 340/375 [07:02<00:26,  1.32it/s]/home/ratattwg/miniconda3/envs/py312/lib/python3.12/site-packages/PIL/Image.py:3406: DecompressionBombWarning: Image size (98806617 pixels) exceeds limit of 89478485 pixels, could be decompression bomb DOS attack.\n",
      "  warnings.warn(\n",
      "Training Epoch 31/50: 100%|██████████| 375/375 [07:38<00:00,  1.22s/it]\n"
     ]
    },
    {
     "name": "stdout",
     "output_type": "stream",
     "text": [
      "Epoch 31/50, Loss: 0.4389, Accuracy: 0.8209\n"
     ]
    },
    {
     "name": "stderr",
     "output_type": "stream",
     "text": [
      "Training Epoch 32/50:   0%|          | 0/375 [00:00<?, ?it/s]/home/ratattwg/miniconda3/envs/py312/lib/python3.12/site-packages/PIL/Image.py:3406: DecompressionBombWarning: Image size (161087488 pixels) exceeds limit of 89478485 pixels, could be decompression bomb DOS attack.\n",
      "  warnings.warn(\n",
      "Training Epoch 32/50:  29%|██▉       | 109/375 [02:37<01:59,  2.22it/s]/home/ratattwg/miniconda3/envs/py312/lib/python3.12/site-packages/PIL/Image.py:3406: DecompressionBombWarning: Image size (107184040 pixels) exceeds limit of 89478485 pixels, could be decompression bomb DOS attack.\n",
      "  warnings.warn(\n",
      "Training Epoch 32/50:  32%|███▏      | 121/375 [02:50<01:56,  2.18it/s]/home/ratattwg/miniconda3/envs/py312/lib/python3.12/site-packages/PIL/Image.py:3406: DecompressionBombWarning: Image size (99991727 pixels) exceeds limit of 89478485 pixels, could be decompression bomb DOS attack.\n",
      "  warnings.warn(\n",
      "Training Epoch 32/50:  34%|███▍      | 128/375 [03:04<03:44,  1.10it/s]/home/ratattwg/miniconda3/envs/py312/lib/python3.12/site-packages/PIL/Image.py:3406: DecompressionBombWarning: Image size (96000000 pixels) exceeds limit of 89478485 pixels, could be decompression bomb DOS attack.\n",
      "  warnings.warn(\n",
      "Training Epoch 32/50:  42%|████▏     | 159/375 [03:41<06:18,  1.75s/it]/home/ratattwg/miniconda3/envs/py312/lib/python3.12/site-packages/PIL/Image.py:3406: DecompressionBombWarning: Image size (98058240 pixels) exceeds limit of 89478485 pixels, could be decompression bomb DOS attack.\n",
      "  warnings.warn(\n",
      "Training Epoch 32/50:  88%|████████▊ | 331/375 [06:55<01:41,  2.31s/it]/home/ratattwg/miniconda3/envs/py312/lib/python3.12/site-packages/PIL/Image.py:3406: DecompressionBombWarning: Image size (96012000 pixels) exceeds limit of 89478485 pixels, could be decompression bomb DOS attack.\n",
      "  warnings.warn(\n",
      "Training Epoch 32/50:  91%|█████████ | 341/375 [07:00<00:22,  1.48it/s]/home/ratattwg/miniconda3/envs/py312/lib/python3.12/site-packages/PIL/Image.py:3406: DecompressionBombWarning: Image size (93808822 pixels) exceeds limit of 89478485 pixels, could be decompression bomb DOS attack.\n",
      "  warnings.warn(\n",
      "Training Epoch 32/50: 100%|██████████| 375/375 [07:35<00:00,  1.21s/it]\n"
     ]
    },
    {
     "name": "stdout",
     "output_type": "stream",
     "text": [
      "Epoch 32/50, Loss: 0.3264, Accuracy: 0.8226\n"
     ]
    },
    {
     "name": "stderr",
     "output_type": "stream",
     "text": [
      "Training Epoch 33/50:  16%|█▋        | 61/375 [01:44<04:35,  1.14it/s] /home/ratattwg/miniconda3/envs/py312/lib/python3.12/site-packages/PIL/Image.py:3406: DecompressionBombWarning: Image size (90671520 pixels) exceeds limit of 89478485 pixels, could be decompression bomb DOS attack.\n",
      "  warnings.warn(\n",
      "Training Epoch 33/50:  23%|██▎       | 85/375 [02:12<03:54,  1.24it/s]/home/ratattwg/miniconda3/envs/py312/lib/python3.12/site-packages/PIL/Image.py:3406: DecompressionBombWarning: Image size (161087488 pixels) exceeds limit of 89478485 pixels, could be decompression bomb DOS attack.\n",
      "  warnings.warn(\n",
      "Training Epoch 33/50:  33%|███▎      | 124/375 [02:55<03:44,  1.12it/s]/home/ratattwg/miniconda3/envs/py312/lib/python3.12/site-packages/PIL/Image.py:3406: DecompressionBombWarning: Image size (98806617 pixels) exceeds limit of 89478485 pixels, could be decompression bomb DOS attack.\n",
      "  warnings.warn(\n",
      "Training Epoch 33/50: 100%|██████████| 375/375 [07:38<00:00,  1.22s/it]\n"
     ]
    },
    {
     "name": "stdout",
     "output_type": "stream",
     "text": [
      "Epoch 33/50, Loss: 0.4566, Accuracy: 0.8219\n"
     ]
    },
    {
     "name": "stderr",
     "output_type": "stream",
     "text": [
      "Training Epoch 34/50:  32%|███▏      | 120/375 [02:53<03:14,  1.31it/s]/home/ratattwg/miniconda3/envs/py312/lib/python3.12/site-packages/PIL/Image.py:3406: DecompressionBombWarning: Image size (99991727 pixels) exceeds limit of 89478485 pixels, could be decompression bomb DOS attack.\n",
      "  warnings.warn(\n",
      "Training Epoch 34/50:  93%|█████████▎| 349/375 [07:15<00:22,  1.13it/s]/home/ratattwg/miniconda3/envs/py312/lib/python3.12/site-packages/PIL/Image.py:3406: DecompressionBombWarning: Image size (96000000 pixels) exceeds limit of 89478485 pixels, could be decompression bomb DOS attack.\n",
      "  warnings.warn(\n",
      "Training Epoch 34/50: 100%|██████████| 375/375 [07:37<00:00,  1.22s/it]\n"
     ]
    },
    {
     "name": "stdout",
     "output_type": "stream",
     "text": [
      "Epoch 34/50, Loss: 0.3272, Accuracy: 0.8263\n"
     ]
    },
    {
     "name": "stderr",
     "output_type": "stream",
     "text": [
      "Training Epoch 35/50:   0%|          | 0/375 [00:00<?, ?it/s]/home/ratattwg/miniconda3/envs/py312/lib/python3.12/site-packages/PIL/Image.py:3406: DecompressionBombWarning: Image size (161087488 pixels) exceeds limit of 89478485 pixels, could be decompression bomb DOS attack.\n",
      "  warnings.warn(\n",
      "/home/ratattwg/miniconda3/envs/py312/lib/python3.12/site-packages/PIL/Image.py:3406: DecompressionBombWarning: Image size (94990077 pixels) exceeds limit of 89478485 pixels, could be decompression bomb DOS attack.\n",
      "  warnings.warn(\n",
      "Training Epoch 35/50:  11%|█         | 42/375 [01:28<05:39,  1.02s/it] /home/ratattwg/miniconda3/envs/py312/lib/python3.12/site-packages/PIL/Image.py:3406: DecompressionBombWarning: Image size (107184040 pixels) exceeds limit of 89478485 pixels, could be decompression bomb DOS attack.\n",
      "  warnings.warn(\n",
      "Training Epoch 35/50: 100%|██████████| 375/375 [07:40<00:00,  1.23s/it]"
     ]
    },
    {
     "name": "stdout",
     "output_type": "stream",
     "text": [
      "Epoch 35/50, Loss: 0.5002, Accuracy: 0.8257\n"
     ]
    },
    {
     "name": "stderr",
     "output_type": "stream",
     "text": [
      "\n",
      "/home/ratattwg/miniconda3/envs/py312/lib/python3.12/site-packages/PIL/Image.py:3406: DecompressionBombWarning: Image size (143040000 pixels) exceeds limit of 89478485 pixels, could be decompression bomb DOS attack.\n",
      "  warnings.warn(\n",
      "/home/ratattwg/miniconda3/envs/py312/lib/python3.12/site-packages/PIL/Image.py:1054: UserWarning: Palette images with Transparency expressed in bytes should be converted to RGBA images\n",
      "  warnings.warn(\n",
      "/home/ratattwg/miniconda3/envs/py312/lib/python3.12/site-packages/PIL/Image.py:3406: DecompressionBombWarning: Image size (121554000 pixels) exceeds limit of 89478485 pixels, could be decompression bomb DOS attack.\n",
      "  warnings.warn(\n",
      "/home/ratattwg/miniconda3/envs/py312/lib/python3.12/site-packages/PIL/Image.py:1054: UserWarning: Palette images with Transparency expressed in bytes should be converted to RGBA images\n",
      "  warnings.warn(\n",
      "/home/ratattwg/miniconda3/envs/py312/lib/python3.12/site-packages/PIL/Image.py:1054: UserWarning: Palette images with Transparency expressed in bytes should be converted to RGBA images\n",
      "  warnings.warn(\n",
      "/home/ratattwg/miniconda3/envs/py312/lib/python3.12/site-packages/PIL/Image.py:1054: UserWarning: Palette images with Transparency expressed in bytes should be converted to RGBA images\n",
      "  warnings.warn(\n",
      "/home/ratattwg/miniconda3/envs/py312/lib/python3.12/site-packages/PIL/Image.py:1054: UserWarning: Palette images with Transparency expressed in bytes should be converted to RGBA images\n",
      "  warnings.warn(\n"
     ]
    },
    {
     "name": "stdout",
     "output_type": "stream",
     "text": [
      "Test Accuracy: 0.8488, AUC: 0.9264, Precision: 0.8695, Recall: 0.8207\n"
     ]
    },
    {
     "name": "stderr",
     "output_type": "stream",
     "text": [
      "Training Epoch 36/50:   0%|          | 0/375 [00:00<?, ?it/s]/home/ratattwg/miniconda3/envs/py312/lib/python3.12/site-packages/PIL/Image.py:3406: DecompressionBombWarning: Image size (99991727 pixels) exceeds limit of 89478485 pixels, could be decompression bomb DOS attack.\n",
      "  warnings.warn(\n",
      "Training Epoch 36/50:   6%|▋         | 24/375 [01:00<02:38,  2.21it/s] /home/ratattwg/miniconda3/envs/py312/lib/python3.12/site-packages/PIL/Image.py:3406: DecompressionBombWarning: Image size (96012000 pixels) exceeds limit of 89478485 pixels, could be decompression bomb DOS attack.\n",
      "  warnings.warn(\n",
      "Training Epoch 36/50:  54%|█████▍    | 204/375 [04:25<01:18,  2.18it/s]/home/ratattwg/miniconda3/envs/py312/lib/python3.12/site-packages/PIL/Image.py:3406: DecompressionBombWarning: Image size (116889448 pixels) exceeds limit of 89478485 pixels, could be decompression bomb DOS attack.\n",
      "  warnings.warn(\n",
      "Training Epoch 36/50:  84%|████████▍ | 316/375 [06:34<01:10,  1.19s/it]/home/ratattwg/miniconda3/envs/py312/lib/python3.12/site-packages/PIL/Image.py:3406: DecompressionBombWarning: Image size (98058240 pixels) exceeds limit of 89478485 pixels, could be decompression bomb DOS attack.\n",
      "  warnings.warn(\n",
      "Training Epoch 36/50:  85%|████████▍ | 317/375 [06:34<00:55,  1.05it/s]/home/ratattwg/miniconda3/envs/py312/lib/python3.12/site-packages/PIL/Image.py:3406: DecompressionBombWarning: Image size (90671520 pixels) exceeds limit of 89478485 pixels, could be decompression bomb DOS attack.\n",
      "  warnings.warn(\n",
      "Training Epoch 36/50:  90%|████████▉ | 337/375 [06:59<00:24,  1.53it/s]/home/ratattwg/miniconda3/envs/py312/lib/python3.12/site-packages/PIL/Image.py:3406: DecompressionBombWarning: Image size (99991727 pixels) exceeds limit of 89478485 pixels, could be decompression bomb DOS attack.\n",
      "  warnings.warn(\n",
      "Training Epoch 36/50: 100%|██████████| 375/375 [07:36<00:00,  1.22s/it]\n"
     ]
    },
    {
     "name": "stdout",
     "output_type": "stream",
     "text": [
      "Epoch 36/50, Loss: 0.3976, Accuracy: 0.8244\n"
     ]
    },
    {
     "name": "stderr",
     "output_type": "stream",
     "text": [
      "Training Epoch 37/50:   0%|          | 0/375 [00:00<?, ?it/s]/home/ratattwg/miniconda3/envs/py312/lib/python3.12/site-packages/PIL/Image.py:3406: DecompressionBombWarning: Image size (98806617 pixels) exceeds limit of 89478485 pixels, could be decompression bomb DOS attack.\n",
      "  warnings.warn(\n",
      "Training Epoch 37/50:   0%|          | 1/375 [00:40<4:13:38, 40.69s/it]/home/ratattwg/miniconda3/envs/py312/lib/python3.12/site-packages/PIL/Image.py:3406: DecompressionBombWarning: Image size (96000000 pixels) exceeds limit of 89478485 pixels, could be decompression bomb DOS attack.\n",
      "  warnings.warn(\n",
      "Training Epoch 37/50:  31%|███       | 116/375 [02:46<02:18,  1.87it/s]/home/ratattwg/miniconda3/envs/py312/lib/python3.12/site-packages/PIL/Image.py:3406: DecompressionBombWarning: Image size (98806617 pixels) exceeds limit of 89478485 pixels, could be decompression bomb DOS attack.\n",
      "  warnings.warn(\n",
      "Training Epoch 37/50:  33%|███▎      | 123/375 [02:59<04:58,  1.18s/it]/home/ratattwg/miniconda3/envs/py312/lib/python3.12/site-packages/PIL/Image.py:3406: DecompressionBombWarning: Image size (96012000 pixels) exceeds limit of 89478485 pixels, could be decompression bomb DOS attack.\n",
      "  warnings.warn(\n",
      "Training Epoch 37/50:  41%|████      | 154/375 [03:32<01:42,  2.15it/s]/home/ratattwg/miniconda3/envs/py312/lib/python3.12/site-packages/PIL/Image.py:3406: DecompressionBombWarning: Image size (103608076 pixels) exceeds limit of 89478485 pixels, could be decompression bomb DOS attack.\n",
      "  warnings.warn(\n",
      "Training Epoch 37/50: 100%|██████████| 375/375 [07:37<00:00,  1.22s/it]\n"
     ]
    },
    {
     "name": "stdout",
     "output_type": "stream",
     "text": [
      "Epoch 37/50, Loss: 0.3994, Accuracy: 0.8250\n"
     ]
    },
    {
     "name": "stderr",
     "output_type": "stream",
     "text": [
      "Training Epoch 38/50:  77%|███████▋  | 288/375 [06:05<00:43,  2.01it/s]/home/ratattwg/miniconda3/envs/py312/lib/python3.12/site-packages/PIL/Image.py:3406: DecompressionBombWarning: Image size (96000000 pixels) exceeds limit of 89478485 pixels, could be decompression bomb DOS attack.\n",
      "  warnings.warn(\n",
      "Training Epoch 38/50: 100%|██████████| 375/375 [07:36<00:00,  1.22s/it]\n"
     ]
    },
    {
     "name": "stdout",
     "output_type": "stream",
     "text": [
      "Epoch 38/50, Loss: 0.3812, Accuracy: 0.8252\n"
     ]
    },
    {
     "name": "stderr",
     "output_type": "stream",
     "text": [
      "Training Epoch 39/50:  35%|███▍      | 130/375 [03:02<02:30,  1.63it/s]/home/ratattwg/miniconda3/envs/py312/lib/python3.12/site-packages/PIL/Image.py:3406: DecompressionBombWarning: Image size (107184040 pixels) exceeds limit of 89478485 pixels, could be decompression bomb DOS attack.\n",
      "  warnings.warn(\n",
      "Training Epoch 39/50: 100%|██████████| 375/375 [07:34<00:00,  1.21s/it]\n"
     ]
    },
    {
     "name": "stdout",
     "output_type": "stream",
     "text": [
      "Epoch 39/50, Loss: 0.4909, Accuracy: 0.8251\n"
     ]
    },
    {
     "name": "stderr",
     "output_type": "stream",
     "text": [
      "Training Epoch 40/50:  67%|██████▋   | 252/375 [05:25<00:56,  2.17it/s]/home/ratattwg/miniconda3/envs/py312/lib/python3.12/site-packages/PIL/Image.py:3406: DecompressionBombWarning: Image size (98058240 pixels) exceeds limit of 89478485 pixels, could be decompression bomb DOS attack.\n",
      "  warnings.warn(\n",
      "Training Epoch 40/50:  80%|████████  | 300/375 [06:18<00:33,  2.21it/s]/home/ratattwg/miniconda3/envs/py312/lib/python3.12/site-packages/PIL/Image.py:3406: DecompressionBombWarning: Image size (107184040 pixels) exceeds limit of 89478485 pixels, could be decompression bomb DOS attack.\n",
      "  warnings.warn(\n",
      "Training Epoch 40/50: 100%|██████████| 375/375 [07:38<00:00,  1.22s/it]"
     ]
    },
    {
     "name": "stdout",
     "output_type": "stream",
     "text": [
      "Epoch 40/50, Loss: 0.3540, Accuracy: 0.8244\n"
     ]
    },
    {
     "name": "stderr",
     "output_type": "stream",
     "text": [
      "\n",
      "/home/ratattwg/miniconda3/envs/py312/lib/python3.12/site-packages/PIL/Image.py:1054: UserWarning: Palette images with Transparency expressed in bytes should be converted to RGBA images\n",
      "  warnings.warn(\n",
      "/home/ratattwg/miniconda3/envs/py312/lib/python3.12/site-packages/PIL/Image.py:1054: UserWarning: Palette images with Transparency expressed in bytes should be converted to RGBA images\n",
      "  warnings.warn(\n",
      "/home/ratattwg/miniconda3/envs/py312/lib/python3.12/site-packages/PIL/Image.py:3406: DecompressionBombWarning: Image size (121554000 pixels) exceeds limit of 89478485 pixels, could be decompression bomb DOS attack.\n",
      "  warnings.warn(\n",
      "/home/ratattwg/miniconda3/envs/py312/lib/python3.12/site-packages/PIL/Image.py:3406: DecompressionBombWarning: Image size (143040000 pixels) exceeds limit of 89478485 pixels, could be decompression bomb DOS attack.\n",
      "  warnings.warn(\n",
      "/home/ratattwg/miniconda3/envs/py312/lib/python3.12/site-packages/PIL/Image.py:1054: UserWarning: Palette images with Transparency expressed in bytes should be converted to RGBA images\n",
      "  warnings.warn(\n"
     ]
    },
    {
     "name": "stdout",
     "output_type": "stream",
     "text": [
      "Test Accuracy: 0.8516, AUC: 0.9282, Precision: 0.8535, Recall: 0.8488\n"
     ]
    },
    {
     "name": "stderr",
     "output_type": "stream",
     "text": [
      "Training Epoch 41/50:  16%|█▌        | 60/375 [01:43<02:30,  2.09it/s] /home/ratattwg/miniconda3/envs/py312/lib/python3.12/site-packages/PIL/Image.py:3406: DecompressionBombWarning: Image size (98058240 pixels) exceeds limit of 89478485 pixels, could be decompression bomb DOS attack.\n",
      "  warnings.warn(\n",
      "Training Epoch 41/50:  32%|███▏      | 121/375 [03:06<06:32,  1.54s/it]\n"
     ]
    },
    {
     "ename": "KeyboardInterrupt",
     "evalue": "",
     "output_type": "error",
     "traceback": [
      "\u001b[31m---------------------------------------------------------------------------\u001b[39m",
      "\u001b[31mKeyboardInterrupt\u001b[39m                         Traceback (most recent call last)",
      "\u001b[36mCell\u001b[39m\u001b[36m \u001b[39m\u001b[32mIn[60]\u001b[39m\u001b[32m, line 15\u001b[39m\n\u001b[32m     13\u001b[39m correct = \u001b[32m0\u001b[39m\n\u001b[32m     14\u001b[39m total = \u001b[32m0\u001b[39m\n\u001b[32m---> \u001b[39m\u001b[32m15\u001b[39m \u001b[43m\u001b[49m\u001b[38;5;28;43;01mfor\u001b[39;49;00m\u001b[43m \u001b[49m\u001b[43mfeatures\u001b[49m\u001b[43m,\u001b[49m\u001b[43m \u001b[49m\u001b[43mlabels\u001b[49m\u001b[43m \u001b[49m\u001b[38;5;129;43;01min\u001b[39;49;00m\u001b[43m \u001b[49m\u001b[43mtqdm\u001b[49m\u001b[43m(\u001b[49m\u001b[43mtrain_loader\u001b[49m\u001b[43m,\u001b[49m\u001b[43m \u001b[49m\u001b[43mdesc\u001b[49m\u001b[43m=\u001b[49m\u001b[33;43mf\u001b[39;49m\u001b[33;43m\"\u001b[39;49m\u001b[33;43mTraining Epoch \u001b[39;49m\u001b[38;5;132;43;01m{\u001b[39;49;00m\u001b[43mepoch\u001b[49m\u001b[43m+\u001b[49m\u001b[32;43m1\u001b[39;49m\u001b[38;5;132;43;01m}\u001b[39;49;00m\u001b[33;43m/\u001b[39;49m\u001b[38;5;132;43;01m{\u001b[39;49;00m\u001b[43mepochs\u001b[49m\u001b[38;5;132;43;01m}\u001b[39;49;00m\u001b[33;43m\"\u001b[39;49m\u001b[43m)\u001b[49m\u001b[43m:\u001b[49m\n\u001b[32m     16\u001b[39m \u001b[43m    \u001b[49m\u001b[43mfeatures\u001b[49m\u001b[43m,\u001b[49m\u001b[43m \u001b[49m\u001b[43mlabels\u001b[49m\u001b[43m \u001b[49m\u001b[43m=\u001b[49m\u001b[43m \u001b[49m\u001b[43mfeatures\u001b[49m\u001b[43m.\u001b[49m\u001b[43mto\u001b[49m\u001b[43m(\u001b[49m\u001b[43mdevice\u001b[49m\u001b[43m)\u001b[49m\u001b[43m,\u001b[49m\u001b[43m \u001b[49m\u001b[43mlabels\u001b[49m\u001b[43m.\u001b[49m\u001b[43mto\u001b[49m\u001b[43m(\u001b[49m\u001b[43mdevice\u001b[49m\u001b[43m)\u001b[49m\n\u001b[32m     17\u001b[39m \u001b[43m    \u001b[49m\u001b[43moptimizer\u001b[49m\u001b[43m.\u001b[49m\u001b[43mzero_grad\u001b[49m\u001b[43m(\u001b[49m\u001b[43m)\u001b[49m\n",
      "\u001b[36mFile \u001b[39m\u001b[32m~/miniconda3/envs/py312/lib/python3.12/site-packages/tqdm/std.py:1181\u001b[39m, in \u001b[36mtqdm.__iter__\u001b[39m\u001b[34m(self)\u001b[39m\n\u001b[32m   1178\u001b[39m time = \u001b[38;5;28mself\u001b[39m._time\n\u001b[32m   1180\u001b[39m \u001b[38;5;28;01mtry\u001b[39;00m:\n\u001b[32m-> \u001b[39m\u001b[32m1181\u001b[39m \u001b[43m    \u001b[49m\u001b[38;5;28;43;01mfor\u001b[39;49;00m\u001b[43m \u001b[49m\u001b[43mobj\u001b[49m\u001b[43m \u001b[49m\u001b[38;5;129;43;01min\u001b[39;49;00m\u001b[43m \u001b[49m\u001b[43miterable\u001b[49m\u001b[43m:\u001b[49m\n\u001b[32m   1182\u001b[39m \u001b[43m        \u001b[49m\u001b[38;5;28;43;01myield\u001b[39;49;00m\u001b[43m \u001b[49m\u001b[43mobj\u001b[49m\n\u001b[32m   1183\u001b[39m \u001b[43m        \u001b[49m\u001b[38;5;66;43;03m# Update and possibly print the progressbar.\u001b[39;49;00m\n\u001b[32m   1184\u001b[39m \u001b[43m        \u001b[49m\u001b[38;5;66;43;03m# Note: does not call self.update(1) for speed optimisation.\u001b[39;49;00m\n",
      "\u001b[36mFile \u001b[39m\u001b[32m~/miniconda3/envs/py312/lib/python3.12/site-packages/torch/utils/data/dataloader.py:631\u001b[39m, in \u001b[36m_BaseDataLoaderIter.__next__\u001b[39m\u001b[34m(self)\u001b[39m\n\u001b[32m    628\u001b[39m \u001b[38;5;28;01mif\u001b[39;00m \u001b[38;5;28mself\u001b[39m._sampler_iter \u001b[38;5;129;01mis\u001b[39;00m \u001b[38;5;28;01mNone\u001b[39;00m:\n\u001b[32m    629\u001b[39m     \u001b[38;5;66;03m# TODO(https://github.com/pytorch/pytorch/issues/76750)\u001b[39;00m\n\u001b[32m    630\u001b[39m     \u001b[38;5;28mself\u001b[39m._reset()  \u001b[38;5;66;03m# type: ignore[call-arg]\u001b[39;00m\n\u001b[32m--> \u001b[39m\u001b[32m631\u001b[39m data = \u001b[38;5;28;43mself\u001b[39;49m\u001b[43m.\u001b[49m\u001b[43m_next_data\u001b[49m\u001b[43m(\u001b[49m\u001b[43m)\u001b[49m\n\u001b[32m    632\u001b[39m \u001b[38;5;28mself\u001b[39m._num_yielded += \u001b[32m1\u001b[39m\n\u001b[32m    633\u001b[39m \u001b[38;5;28;01mif\u001b[39;00m \u001b[38;5;28mself\u001b[39m._dataset_kind == _DatasetKind.Iterable \u001b[38;5;129;01mand\u001b[39;00m \\\n\u001b[32m    634\u001b[39m         \u001b[38;5;28mself\u001b[39m._IterableDataset_len_called \u001b[38;5;129;01mis\u001b[39;00m \u001b[38;5;129;01mnot\u001b[39;00m \u001b[38;5;28;01mNone\u001b[39;00m \u001b[38;5;129;01mand\u001b[39;00m \\\n\u001b[32m    635\u001b[39m         \u001b[38;5;28mself\u001b[39m._num_yielded > \u001b[38;5;28mself\u001b[39m._IterableDataset_len_called:\n",
      "\u001b[36mFile \u001b[39m\u001b[32m~/miniconda3/envs/py312/lib/python3.12/site-packages/torch/utils/data/dataloader.py:1329\u001b[39m, in \u001b[36m_MultiProcessingDataLoaderIter._next_data\u001b[39m\u001b[34m(self)\u001b[39m\n\u001b[32m   1326\u001b[39m     \u001b[38;5;28;01mreturn\u001b[39;00m \u001b[38;5;28mself\u001b[39m._process_data(data)\n\u001b[32m   1328\u001b[39m \u001b[38;5;28;01massert\u001b[39;00m \u001b[38;5;129;01mnot\u001b[39;00m \u001b[38;5;28mself\u001b[39m._shutdown \u001b[38;5;129;01mand\u001b[39;00m \u001b[38;5;28mself\u001b[39m._tasks_outstanding > \u001b[32m0\u001b[39m\n\u001b[32m-> \u001b[39m\u001b[32m1329\u001b[39m idx, data = \u001b[38;5;28;43mself\u001b[39;49m\u001b[43m.\u001b[49m\u001b[43m_get_data\u001b[49m\u001b[43m(\u001b[49m\u001b[43m)\u001b[49m\n\u001b[32m   1330\u001b[39m \u001b[38;5;28mself\u001b[39m._tasks_outstanding -= \u001b[32m1\u001b[39m\n\u001b[32m   1331\u001b[39m \u001b[38;5;28;01mif\u001b[39;00m \u001b[38;5;28mself\u001b[39m._dataset_kind == _DatasetKind.Iterable:\n\u001b[32m   1332\u001b[39m     \u001b[38;5;66;03m# Check for _IterableDatasetStopIteration\u001b[39;00m\n",
      "\u001b[36mFile \u001b[39m\u001b[32m~/miniconda3/envs/py312/lib/python3.12/site-packages/torch/utils/data/dataloader.py:1285\u001b[39m, in \u001b[36m_MultiProcessingDataLoaderIter._get_data\u001b[39m\u001b[34m(self)\u001b[39m\n\u001b[32m   1283\u001b[39m \u001b[38;5;28;01melif\u001b[39;00m \u001b[38;5;28mself\u001b[39m._pin_memory:\n\u001b[32m   1284\u001b[39m     \u001b[38;5;28;01mwhile\u001b[39;00m \u001b[38;5;28mself\u001b[39m._pin_memory_thread.is_alive():\n\u001b[32m-> \u001b[39m\u001b[32m1285\u001b[39m         success, data = \u001b[38;5;28;43mself\u001b[39;49m\u001b[43m.\u001b[49m\u001b[43m_try_get_data\u001b[49m\u001b[43m(\u001b[49m\u001b[43m)\u001b[49m\n\u001b[32m   1286\u001b[39m         \u001b[38;5;28;01mif\u001b[39;00m success:\n\u001b[32m   1287\u001b[39m             \u001b[38;5;28;01mreturn\u001b[39;00m data\n",
      "\u001b[36mFile \u001b[39m\u001b[32m~/miniconda3/envs/py312/lib/python3.12/site-packages/torch/utils/data/dataloader.py:1133\u001b[39m, in \u001b[36m_MultiProcessingDataLoaderIter._try_get_data\u001b[39m\u001b[34m(self, timeout)\u001b[39m\n\u001b[32m   1120\u001b[39m \u001b[38;5;28;01mdef\u001b[39;00m\u001b[38;5;250m \u001b[39m\u001b[34m_try_get_data\u001b[39m(\u001b[38;5;28mself\u001b[39m, timeout=_utils.MP_STATUS_CHECK_INTERVAL):\n\u001b[32m   1121\u001b[39m     \u001b[38;5;66;03m# Tries to fetch data from `self._data_queue` once for a given timeout.\u001b[39;00m\n\u001b[32m   1122\u001b[39m     \u001b[38;5;66;03m# This can also be used as inner loop of fetching without timeout, with\u001b[39;00m\n\u001b[32m   (...)\u001b[39m\u001b[32m   1130\u001b[39m     \u001b[38;5;66;03m# Returns a 2-tuple:\u001b[39;00m\n\u001b[32m   1131\u001b[39m     \u001b[38;5;66;03m#   (bool: whether successfully get data, any: data if successful else None)\u001b[39;00m\n\u001b[32m   1132\u001b[39m     \u001b[38;5;28;01mtry\u001b[39;00m:\n\u001b[32m-> \u001b[39m\u001b[32m1133\u001b[39m         data = \u001b[38;5;28;43mself\u001b[39;49m\u001b[43m.\u001b[49m\u001b[43m_data_queue\u001b[49m\u001b[43m.\u001b[49m\u001b[43mget\u001b[49m\u001b[43m(\u001b[49m\u001b[43mtimeout\u001b[49m\u001b[43m=\u001b[49m\u001b[43mtimeout\u001b[49m\u001b[43m)\u001b[49m\n\u001b[32m   1134\u001b[39m         \u001b[38;5;28;01mreturn\u001b[39;00m (\u001b[38;5;28;01mTrue\u001b[39;00m, data)\n\u001b[32m   1135\u001b[39m     \u001b[38;5;28;01mexcept\u001b[39;00m \u001b[38;5;167;01mException\u001b[39;00m \u001b[38;5;28;01mas\u001b[39;00m e:\n\u001b[32m   1136\u001b[39m         \u001b[38;5;66;03m# At timeout and error, we manually check whether any worker has\u001b[39;00m\n\u001b[32m   1137\u001b[39m         \u001b[38;5;66;03m# failed. Note that this is the only mechanism for Windows to detect\u001b[39;00m\n\u001b[32m   1138\u001b[39m         \u001b[38;5;66;03m# worker failures.\u001b[39;00m\n",
      "\u001b[36mFile \u001b[39m\u001b[32m~/miniconda3/envs/py312/lib/python3.12/queue.py:180\u001b[39m, in \u001b[36mQueue.get\u001b[39m\u001b[34m(self, block, timeout)\u001b[39m\n\u001b[32m    178\u001b[39m         \u001b[38;5;28;01mif\u001b[39;00m remaining <= \u001b[32m0.0\u001b[39m:\n\u001b[32m    179\u001b[39m             \u001b[38;5;28;01mraise\u001b[39;00m Empty\n\u001b[32m--> \u001b[39m\u001b[32m180\u001b[39m         \u001b[38;5;28;43mself\u001b[39;49m\u001b[43m.\u001b[49m\u001b[43mnot_empty\u001b[49m\u001b[43m.\u001b[49m\u001b[43mwait\u001b[49m\u001b[43m(\u001b[49m\u001b[43mremaining\u001b[49m\u001b[43m)\u001b[49m\n\u001b[32m    181\u001b[39m item = \u001b[38;5;28mself\u001b[39m._get()\n\u001b[32m    182\u001b[39m \u001b[38;5;28mself\u001b[39m.not_full.notify()\n",
      "\u001b[36mFile \u001b[39m\u001b[32m~/miniconda3/envs/py312/lib/python3.12/threading.py:359\u001b[39m, in \u001b[36mCondition.wait\u001b[39m\u001b[34m(self, timeout)\u001b[39m\n\u001b[32m    357\u001b[39m \u001b[38;5;28;01melse\u001b[39;00m:\n\u001b[32m    358\u001b[39m     \u001b[38;5;28;01mif\u001b[39;00m timeout > \u001b[32m0\u001b[39m:\n\u001b[32m--> \u001b[39m\u001b[32m359\u001b[39m         gotit = \u001b[43mwaiter\u001b[49m\u001b[43m.\u001b[49m\u001b[43macquire\u001b[49m\u001b[43m(\u001b[49m\u001b[38;5;28;43;01mTrue\u001b[39;49;00m\u001b[43m,\u001b[49m\u001b[43m \u001b[49m\u001b[43mtimeout\u001b[49m\u001b[43m)\u001b[49m\n\u001b[32m    360\u001b[39m     \u001b[38;5;28;01melse\u001b[39;00m:\n\u001b[32m    361\u001b[39m         gotit = waiter.acquire(\u001b[38;5;28;01mFalse\u001b[39;00m)\n",
      "\u001b[31mKeyboardInterrupt\u001b[39m: "
     ]
    }
   ],
   "source": [
    "loss = nn.BCEWithLogitsLoss()\n",
    "model = CustomBinaryCNN().to(device)\n",
    "model.load_state_dict(torch.load(\"./model_epoch_25.pth\", map_location=device))\n",
    "print(next(model.parameters()).is_cuda)\n",
    "optimizer = torch.optim.Adam(model.parameters(), lr=0.001, weight_decay=1e-4)\n",
    "\n",
    "epochs = 50\n",
    "\n",
    "from tqdm.auto import tqdm\n",
    "\n",
    "for epoch in range(25, epochs):\n",
    "    model.train()\n",
    "    correct = 0\n",
    "    total = 0\n",
    "    for features, labels in tqdm(train_loader, desc=f\"Training Epoch {epoch+1}/{epochs}\"):\n",
    "        features, labels = features.to(device), labels.to(device)\n",
    "        optimizer.zero_grad()\n",
    "        outputs = model(features)\n",
    "        loss_value = loss(outputs.view(-1), labels.float())\n",
    "        loss_value.backward()\n",
    "        optimizer.step()\n",
    "        preds = (outputs.view(-1) > 0.0)\n",
    "        correct += (preds == labels).sum().item()\n",
    "        total += labels.size(0)\n",
    "    accuracy = correct / total\n",
    "    print(f\"Epoch {epoch+1}/{epochs}, Loss: {loss_value.item():.4f}, Accuracy: {accuracy:.4f}\")\n",
    "\n",
    "    if (epoch + 1) % 5 == 0:\n",
    "        test_model(model, test_loader, loss)\n",
    "        torch.save(model.state_dict(), f\"./model_epoch_{epoch+1}.pth\")\n"
   ]
  },
  {
   "cell_type": "code",
   "execution_count": 61,
   "id": "ca248200",
   "metadata": {},
   "outputs": [
    {
     "data": {
      "text/plain": [
       "<All keys matched successfully>"
      ]
     },
     "execution_count": 61,
     "metadata": {},
     "output_type": "execute_result"
    }
   ],
   "source": [
    "model = CustomBinaryCNN().to(device)\n",
    "model.load_state_dict(torch.load(\"./model_epoch_40.pth\", map_location=torch.device('cuda')))"
   ]
  },
  {
   "cell_type": "code",
   "execution_count": 10,
   "id": "1ee05a10",
   "metadata": {},
   "outputs": [
    {
     "name": "stderr",
     "output_type": "stream",
     "text": [
      "/home/ratattwg/miniconda3/envs/py312/lib/python3.12/site-packages/torch/nn/modules/conv.py:456: UserWarning: Applied workaround for CuDNN issue, install nvrtc.so (Triggered internally at ../aten/src/ATen/native/cudnn/Conv_v8.cpp:84.)\n",
      "  return F.conv2d(input, weight, bias, self.stride,\n",
      "/home/ratattwg/miniconda3/envs/py312/lib/python3.12/site-packages/PIL/Image.py:1054: UserWarning: Palette images with Transparency expressed in bytes should be converted to RGBA images\n",
      "  warnings.warn(\n",
      "/home/ratattwg/miniconda3/envs/py312/lib/python3.12/site-packages/PIL/Image.py:3406: DecompressionBombWarning: Image size (121554000 pixels) exceeds limit of 89478485 pixels, could be decompression bomb DOS attack.\n",
      "  warnings.warn(\n",
      "/home/ratattwg/miniconda3/envs/py312/lib/python3.12/site-packages/PIL/Image.py:1054: UserWarning: Palette images with Transparency expressed in bytes should be converted to RGBA images\n",
      "  warnings.warn(\n",
      "/home/ratattwg/miniconda3/envs/py312/lib/python3.12/site-packages/PIL/Image.py:3406: DecompressionBombWarning: Image size (143040000 pixels) exceeds limit of 89478485 pixels, could be decompression bomb DOS attack.\n",
      "  warnings.warn(\n",
      "/home/ratattwg/miniconda3/envs/py312/lib/python3.12/site-packages/PIL/Image.py:1054: UserWarning: Palette images with Transparency expressed in bytes should be converted to RGBA images\n",
      "  warnings.warn(\n"
     ]
    },
    {
     "name": "stdout",
     "output_type": "stream",
     "text": [
      "Test Accuracy: 0.8403, AUC: 0.9219, Precision: 0.8138, Recall: 0.8823\n"
     ]
    }
   ],
   "source": [
    "loss = nn.BCEWithLogitsLoss()\n",
    "model.eval()\n",
    "test_model(model, test_loader, loss)"
   ]
  },
  {
   "cell_type": "code",
   "execution_count": 65,
   "id": "b573e91b",
   "metadata": {},
   "outputs": [
    {
     "name": "stdout",
     "output_type": "stream",
     "text": [
      "Path to dataset files: /home/ratattwg/Desktop/testing_baseline_model/data/datasets/birdy654/cifake-real-and-ai-generated-synthetic-images/versions/3\n"
     ]
    }
   ],
   "source": [
    "import kagglehub\n",
    "\n",
    "# Download latest version\n",
    "path = kagglehub.dataset_download(\"birdy654/cifake-real-and-ai-generated-synthetic-images\")\n",
    "\n",
    "print(\"Path to dataset files:\", path)\n",
    "\n",
    "\n",
    "test_transform = transforms.Compose([\n",
    "    transforms.Resize((128, 128)),\n",
    "    transforms.ToTensor(),\n",
    "    transforms.Normalize(mean=[0.485,0.456,0.406], std=[0.229,0.224,0.225])  # Normalize to [-1, 1]\n",
    "])\n",
    "test_dataset = dsets.ImageFolder(root=os.path.join(path, \"test\"), transform=test_transform)\n",
    "\n",
    "test_loader = torch.utils.data.DataLoader(\n",
    "    test_dataset,\n",
    "    batch_size=64,\n",
    "    shuffle=True,\n",
    "    num_workers=4,\n",
    "    pin_memory=True,\n",
    "    pin_memory_device=\"cuda\",\n",
    "    prefetch_factor=2\n",
    ")"
   ]
  },
  {
   "cell_type": "code",
   "execution_count": 66,
   "id": "9be0976b",
   "metadata": {},
   "outputs": [
    {
     "name": "stdout",
     "output_type": "stream",
     "text": [
      "Test Accuracy: 0.5148, AUC: 0.4800, Precision: 0.5095, Recall: 0.7917\n"
     ]
    }
   ],
   "source": [
    "model.eval()\n",
    "test_model(model, test_loader, loss)"
   ]
  },
  {
   "cell_type": "code",
   "execution_count": null,
   "id": "106a2377",
   "metadata": {},
   "outputs": [],
   "source": []
  }
 ],
 "metadata": {
  "kernelspec": {
   "display_name": "py312",
   "language": "python",
   "name": "python3"
  },
  "language_info": {
   "codemirror_mode": {
    "name": "ipython",
    "version": 3
   },
   "file_extension": ".py",
   "mimetype": "text/x-python",
   "name": "python",
   "nbconvert_exporter": "python",
   "pygments_lexer": "ipython3",
   "version": "3.12.11"
  }
 },
 "nbformat": 4,
 "nbformat_minor": 5
}
